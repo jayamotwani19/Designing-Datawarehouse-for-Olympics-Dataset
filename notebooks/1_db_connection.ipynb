{
 "cells": [
  {
   "cell_type": "markdown",
   "id": "d9b95d730101ade",
   "metadata": {},
   "source": [
    "# Connect to RDBMS in Python\n",
    "## Use pyscopg2 and then run SQL"
   ]
  },
  {
   "cell_type": "code",
   "execution_count": 1,
   "id": "initial_id",
   "metadata": {
    "tags": []
   },
   "outputs": [],
   "source": [
    "import psycopg2\n",
    "from psycopg2 import OperationalError\n",
    "\n",
    "\n",
    "def create_connection(db_name, db_user, db_password, db_host, db_port):\n",
    "    connection = None\n",
    "    try:\n",
    "        connection = psycopg2.connect(\n",
    "            database=db_name,\n",
    "            user=db_user,\n",
    "            password=db_password,\n",
    "            host=db_host,\n",
    "            port=db_port,\n",
    "        )\n",
    "        print(\"Connection to PostgreSQL DB successful\")\n",
    "    except OperationalError as e:\n",
    "        print(f\"The error '{e}' occurred\")\n",
    "    return connection"
   ]
  },
  {
   "cell_type": "code",
   "execution_count": 2,
   "id": "e78498952afd7584",
   "metadata": {
    "tags": []
   },
   "outputs": [
    {
     "name": "stdout",
     "output_type": "stream",
     "text": [
      "Connection to PostgreSQL DB successful\n"
     ]
    }
   ],
   "source": [
    "\n",
    "# Connection details\n",
    "db_name = \"AdventureworksDW\"\n",
    "db_user = \"postgres\"\n",
    "db_password = \"postgres\"  # Update with your password\n",
    "db_host = \"localhost\"  # Update if your DB is hosted elsewhere\n",
    "db_port = \"5432\"\n",
    "\n",
    "# Create the connection\n",
    "connection = create_connection(db_name, db_user, db_password, db_host, db_port)"
   ]
  },
  {
   "cell_type": "code",
   "execution_count": 3,
   "id": "9e84dc7d-8ca3-422f-95c7-fcddc0c03d34",
   "metadata": {
    "tags": []
   },
   "outputs": [
    {
     "name": "stdout",
     "output_type": "stream",
     "text": [
      "(11000, 26, 'AW00011000', None, 'Jon', 'V', 'Yang', False, datetime.date(1971, 10, 6), 'M', None, 'M', 'jon24@adventure-works.com', '$90,000.00', 2, 0, 'Bachelors', 'Licenciatura', 'Bac + 4', 'Professional', 'Profesional', 'Cadre', '1', 0, '3761 N. 14th St', None, '1 (11) 500 555-0162', datetime.date(2011, 1, 19), '1-2 Miles')\n"
     ]
    }
   ],
   "source": [
    "# run raw SQL with the connection and view the results\n",
    "cursor = connection.cursor()\n",
    "cursor.execute(\"SELECT * FROM dimcustomer LIMIT 10\")\n",
    "result = cursor.fetchall()\n",
    "for row in result:\n",
    "    print(row)\n",
    "    break"
   ]
  },
  {
   "cell_type": "markdown",
   "id": "8519ddfe-643f-4838-983f-10771bc8cb31",
   "metadata": {
    "tags": []
   },
   "source": [
    "## Use pandas to connect and read SQL"
   ]
  },
  {
   "cell_type": "code",
   "execution_count": 6,
   "id": "29667f3bf88db094",
   "metadata": {
    "collapsed": false,
    "jupyter": {
     "outputs_hidden": false
    },
    "tags": []
   },
   "outputs": [],
   "source": [
    "import pandas as pd\n",
    "from sqlalchemy import create_engine"
   ]
  },
  {
   "cell_type": "code",
   "execution_count": 7,
   "id": "21c7e28c7a158d95",
   "metadata": {
    "collapsed": false,
    "jupyter": {
     "outputs_hidden": false
    },
    "tags": []
   },
   "outputs": [],
   "source": [
    "connection_url = f\"postgresql://{db_user}:{db_password}@{db_host}:{db_port}/{db_name}\"\n",
    "\n",
    "# Create the engine\n",
    "engine = create_engine(connection_url)"
   ]
  },
  {
   "cell_type": "code",
   "execution_count": 8,
   "id": "2776536401d058b5",
   "metadata": {
    "collapsed": false,
    "jupyter": {
     "outputs_hidden": false
    },
    "tags": []
   },
   "outputs": [],
   "source": [
    "df = pd.read_sql_query(\"SELECT * FROM dimcustomer LIMIT 10\", engine)"
   ]
  },
  {
   "cell_type": "code",
   "execution_count": 9,
   "id": "7da894928d98ffb2",
   "metadata": {
    "collapsed": false,
    "jupyter": {
     "outputs_hidden": false
    },
    "tags": []
   },
   "outputs": [
    {
     "data": {
      "text/html": [
       "<div>\n",
       "<style scoped>\n",
       "    .dataframe tbody tr th:only-of-type {\n",
       "        vertical-align: middle;\n",
       "    }\n",
       "\n",
       "    .dataframe tbody tr th {\n",
       "        vertical-align: top;\n",
       "    }\n",
       "\n",
       "    .dataframe thead th {\n",
       "        text-align: right;\n",
       "    }\n",
       "</style>\n",
       "<table border=\"1\" class=\"dataframe\">\n",
       "  <thead>\n",
       "    <tr style=\"text-align: right;\">\n",
       "      <th></th>\n",
       "      <th>customerkey</th>\n",
       "      <th>geographykey</th>\n",
       "      <th>customeralternatekey</th>\n",
       "      <th>title</th>\n",
       "      <th>firstname</th>\n",
       "      <th>middlename</th>\n",
       "      <th>lastname</th>\n",
       "      <th>namestyle</th>\n",
       "      <th>birthdate</th>\n",
       "      <th>maritalstatus</th>\n",
       "      <th>...</th>\n",
       "      <th>englishoccupation</th>\n",
       "      <th>spanishoccupation</th>\n",
       "      <th>frenchoccupation</th>\n",
       "      <th>houseownerflag</th>\n",
       "      <th>numbercarsowned</th>\n",
       "      <th>addressline1</th>\n",
       "      <th>addressline2</th>\n",
       "      <th>phone</th>\n",
       "      <th>datefirstpurchase</th>\n",
       "      <th>commutedistance</th>\n",
       "    </tr>\n",
       "  </thead>\n",
       "  <tbody>\n",
       "    <tr>\n",
       "      <th>0</th>\n",
       "      <td>11000</td>\n",
       "      <td>26</td>\n",
       "      <td>AW00011000</td>\n",
       "      <td>None</td>\n",
       "      <td>Jon</td>\n",
       "      <td>V</td>\n",
       "      <td>Yang</td>\n",
       "      <td>False</td>\n",
       "      <td>1971-10-06</td>\n",
       "      <td>M</td>\n",
       "      <td>...</td>\n",
       "      <td>Professional</td>\n",
       "      <td>Profesional</td>\n",
       "      <td>Cadre</td>\n",
       "      <td>1</td>\n",
       "      <td>0</td>\n",
       "      <td>3761 N. 14th St</td>\n",
       "      <td>None</td>\n",
       "      <td>1 (11) 500 555-0162</td>\n",
       "      <td>2011-01-19</td>\n",
       "      <td>1-2 Miles</td>\n",
       "    </tr>\n",
       "    <tr>\n",
       "      <th>1</th>\n",
       "      <td>11001</td>\n",
       "      <td>37</td>\n",
       "      <td>AW00011001</td>\n",
       "      <td>None</td>\n",
       "      <td>Eugene</td>\n",
       "      <td>L</td>\n",
       "      <td>Huang</td>\n",
       "      <td>False</td>\n",
       "      <td>1976-05-10</td>\n",
       "      <td>S</td>\n",
       "      <td>...</td>\n",
       "      <td>Professional</td>\n",
       "      <td>Profesional</td>\n",
       "      <td>Cadre</td>\n",
       "      <td>0</td>\n",
       "      <td>1</td>\n",
       "      <td>2243 W St.</td>\n",
       "      <td>None</td>\n",
       "      <td>1 (11) 500 555-0110</td>\n",
       "      <td>2011-01-15</td>\n",
       "      <td>0-1 Miles</td>\n",
       "    </tr>\n",
       "    <tr>\n",
       "      <th>2</th>\n",
       "      <td>11002</td>\n",
       "      <td>31</td>\n",
       "      <td>AW00011002</td>\n",
       "      <td>None</td>\n",
       "      <td>Ruben</td>\n",
       "      <td>None</td>\n",
       "      <td>Torres</td>\n",
       "      <td>False</td>\n",
       "      <td>1971-02-09</td>\n",
       "      <td>M</td>\n",
       "      <td>...</td>\n",
       "      <td>Professional</td>\n",
       "      <td>Profesional</td>\n",
       "      <td>Cadre</td>\n",
       "      <td>1</td>\n",
       "      <td>1</td>\n",
       "      <td>5844 Linden Land</td>\n",
       "      <td>None</td>\n",
       "      <td>1 (11) 500 555-0184</td>\n",
       "      <td>2011-01-07</td>\n",
       "      <td>2-5 Miles</td>\n",
       "    </tr>\n",
       "    <tr>\n",
       "      <th>3</th>\n",
       "      <td>11003</td>\n",
       "      <td>11</td>\n",
       "      <td>AW00011003</td>\n",
       "      <td>None</td>\n",
       "      <td>Christy</td>\n",
       "      <td>None</td>\n",
       "      <td>Zhu</td>\n",
       "      <td>False</td>\n",
       "      <td>1973-08-14</td>\n",
       "      <td>S</td>\n",
       "      <td>...</td>\n",
       "      <td>Professional</td>\n",
       "      <td>Profesional</td>\n",
       "      <td>Cadre</td>\n",
       "      <td>0</td>\n",
       "      <td>1</td>\n",
       "      <td>1825 Village Pl.</td>\n",
       "      <td>None</td>\n",
       "      <td>1 (11) 500 555-0162</td>\n",
       "      <td>2010-12-29</td>\n",
       "      <td>5-10 Miles</td>\n",
       "    </tr>\n",
       "    <tr>\n",
       "      <th>4</th>\n",
       "      <td>11004</td>\n",
       "      <td>19</td>\n",
       "      <td>AW00011004</td>\n",
       "      <td>None</td>\n",
       "      <td>Elizabeth</td>\n",
       "      <td>None</td>\n",
       "      <td>Johnson</td>\n",
       "      <td>False</td>\n",
       "      <td>1979-08-05</td>\n",
       "      <td>S</td>\n",
       "      <td>...</td>\n",
       "      <td>Professional</td>\n",
       "      <td>Profesional</td>\n",
       "      <td>Cadre</td>\n",
       "      <td>1</td>\n",
       "      <td>4</td>\n",
       "      <td>7553 Harness Circle</td>\n",
       "      <td>None</td>\n",
       "      <td>1 (11) 500 555-0131</td>\n",
       "      <td>2011-01-23</td>\n",
       "      <td>1-2 Miles</td>\n",
       "    </tr>\n",
       "    <tr>\n",
       "      <th>5</th>\n",
       "      <td>11005</td>\n",
       "      <td>22</td>\n",
       "      <td>AW00011005</td>\n",
       "      <td>None</td>\n",
       "      <td>Julio</td>\n",
       "      <td>None</td>\n",
       "      <td>Ruiz</td>\n",
       "      <td>False</td>\n",
       "      <td>1976-08-01</td>\n",
       "      <td>S</td>\n",
       "      <td>...</td>\n",
       "      <td>Professional</td>\n",
       "      <td>Profesional</td>\n",
       "      <td>Cadre</td>\n",
       "      <td>1</td>\n",
       "      <td>1</td>\n",
       "      <td>7305 Humphrey Drive</td>\n",
       "      <td>None</td>\n",
       "      <td>1 (11) 500 555-0151</td>\n",
       "      <td>2010-12-30</td>\n",
       "      <td>5-10 Miles</td>\n",
       "    </tr>\n",
       "    <tr>\n",
       "      <th>6</th>\n",
       "      <td>11006</td>\n",
       "      <td>8</td>\n",
       "      <td>AW00011006</td>\n",
       "      <td>None</td>\n",
       "      <td>Janet</td>\n",
       "      <td>G</td>\n",
       "      <td>Alvarez</td>\n",
       "      <td>False</td>\n",
       "      <td>1976-12-02</td>\n",
       "      <td>S</td>\n",
       "      <td>...</td>\n",
       "      <td>Professional</td>\n",
       "      <td>Profesional</td>\n",
       "      <td>Cadre</td>\n",
       "      <td>1</td>\n",
       "      <td>1</td>\n",
       "      <td>2612 Berry Dr</td>\n",
       "      <td>None</td>\n",
       "      <td>1 (11) 500 555-0184</td>\n",
       "      <td>2011-01-24</td>\n",
       "      <td>5-10 Miles</td>\n",
       "    </tr>\n",
       "    <tr>\n",
       "      <th>7</th>\n",
       "      <td>11007</td>\n",
       "      <td>40</td>\n",
       "      <td>AW00011007</td>\n",
       "      <td>None</td>\n",
       "      <td>Marco</td>\n",
       "      <td>None</td>\n",
       "      <td>Mehta</td>\n",
       "      <td>False</td>\n",
       "      <td>1969-11-06</td>\n",
       "      <td>M</td>\n",
       "      <td>...</td>\n",
       "      <td>Professional</td>\n",
       "      <td>Profesional</td>\n",
       "      <td>Cadre</td>\n",
       "      <td>1</td>\n",
       "      <td>2</td>\n",
       "      <td>942 Brook Street</td>\n",
       "      <td>None</td>\n",
       "      <td>1 (11) 500 555-0126</td>\n",
       "      <td>2011-01-09</td>\n",
       "      <td>0-1 Miles</td>\n",
       "    </tr>\n",
       "    <tr>\n",
       "      <th>8</th>\n",
       "      <td>11008</td>\n",
       "      <td>32</td>\n",
       "      <td>AW00011008</td>\n",
       "      <td>None</td>\n",
       "      <td>Rob</td>\n",
       "      <td>None</td>\n",
       "      <td>Verhoff</td>\n",
       "      <td>False</td>\n",
       "      <td>1975-07-04</td>\n",
       "      <td>S</td>\n",
       "      <td>...</td>\n",
       "      <td>Professional</td>\n",
       "      <td>Profesional</td>\n",
       "      <td>Cadre</td>\n",
       "      <td>1</td>\n",
       "      <td>3</td>\n",
       "      <td>624 Peabody Road</td>\n",
       "      <td>None</td>\n",
       "      <td>1 (11) 500 555-0164</td>\n",
       "      <td>2011-01-25</td>\n",
       "      <td>10+ Miles</td>\n",
       "    </tr>\n",
       "    <tr>\n",
       "      <th>9</th>\n",
       "      <td>11009</td>\n",
       "      <td>25</td>\n",
       "      <td>AW00011009</td>\n",
       "      <td>None</td>\n",
       "      <td>Shannon</td>\n",
       "      <td>C</td>\n",
       "      <td>Carlson</td>\n",
       "      <td>False</td>\n",
       "      <td>1969-09-29</td>\n",
       "      <td>S</td>\n",
       "      <td>...</td>\n",
       "      <td>Professional</td>\n",
       "      <td>Profesional</td>\n",
       "      <td>Cadre</td>\n",
       "      <td>0</td>\n",
       "      <td>1</td>\n",
       "      <td>3839 Northgate Road</td>\n",
       "      <td>None</td>\n",
       "      <td>1 (11) 500 555-0110</td>\n",
       "      <td>2011-01-27</td>\n",
       "      <td>5-10 Miles</td>\n",
       "    </tr>\n",
       "  </tbody>\n",
       "</table>\n",
       "<p>10 rows × 29 columns</p>\n",
       "</div>"
      ],
      "text/plain": [
       "   customerkey  geographykey customeralternatekey title  firstname middlename  \\\n",
       "0        11000            26           AW00011000  None        Jon          V   \n",
       "1        11001            37           AW00011001  None     Eugene          L   \n",
       "2        11002            31           AW00011002  None      Ruben       None   \n",
       "3        11003            11           AW00011003  None    Christy       None   \n",
       "4        11004            19           AW00011004  None  Elizabeth       None   \n",
       "5        11005            22           AW00011005  None      Julio       None   \n",
       "6        11006             8           AW00011006  None      Janet          G   \n",
       "7        11007            40           AW00011007  None      Marco       None   \n",
       "8        11008            32           AW00011008  None        Rob       None   \n",
       "9        11009            25           AW00011009  None    Shannon          C   \n",
       "\n",
       "  lastname  namestyle   birthdate maritalstatus  ... englishoccupation  \\\n",
       "0     Yang      False  1971-10-06             M  ...      Professional   \n",
       "1    Huang      False  1976-05-10             S  ...      Professional   \n",
       "2   Torres      False  1971-02-09             M  ...      Professional   \n",
       "3      Zhu      False  1973-08-14             S  ...      Professional   \n",
       "4  Johnson      False  1979-08-05             S  ...      Professional   \n",
       "5     Ruiz      False  1976-08-01             S  ...      Professional   \n",
       "6  Alvarez      False  1976-12-02             S  ...      Professional   \n",
       "7    Mehta      False  1969-11-06             M  ...      Professional   \n",
       "8  Verhoff      False  1975-07-04             S  ...      Professional   \n",
       "9  Carlson      False  1969-09-29             S  ...      Professional   \n",
       "\n",
       "  spanishoccupation frenchoccupation houseownerflag  numbercarsowned  \\\n",
       "0       Profesional            Cadre              1                0   \n",
       "1       Profesional            Cadre              0                1   \n",
       "2       Profesional            Cadre              1                1   \n",
       "3       Profesional            Cadre              0                1   \n",
       "4       Profesional            Cadre              1                4   \n",
       "5       Profesional            Cadre              1                1   \n",
       "6       Profesional            Cadre              1                1   \n",
       "7       Profesional            Cadre              1                2   \n",
       "8       Profesional            Cadre              1                3   \n",
       "9       Profesional            Cadre              0                1   \n",
       "\n",
       "          addressline1 addressline2                phone datefirstpurchase  \\\n",
       "0      3761 N. 14th St         None  1 (11) 500 555-0162        2011-01-19   \n",
       "1           2243 W St.         None  1 (11) 500 555-0110        2011-01-15   \n",
       "2     5844 Linden Land         None  1 (11) 500 555-0184        2011-01-07   \n",
       "3     1825 Village Pl.         None  1 (11) 500 555-0162        2010-12-29   \n",
       "4  7553 Harness Circle         None  1 (11) 500 555-0131        2011-01-23   \n",
       "5  7305 Humphrey Drive         None  1 (11) 500 555-0151        2010-12-30   \n",
       "6        2612 Berry Dr         None  1 (11) 500 555-0184        2011-01-24   \n",
       "7     942 Brook Street         None  1 (11) 500 555-0126        2011-01-09   \n",
       "8     624 Peabody Road         None  1 (11) 500 555-0164        2011-01-25   \n",
       "9  3839 Northgate Road         None  1 (11) 500 555-0110        2011-01-27   \n",
       "\n",
       "  commutedistance  \n",
       "0       1-2 Miles  \n",
       "1       0-1 Miles  \n",
       "2       2-5 Miles  \n",
       "3      5-10 Miles  \n",
       "4       1-2 Miles  \n",
       "5      5-10 Miles  \n",
       "6      5-10 Miles  \n",
       "7       0-1 Miles  \n",
       "8       10+ Miles  \n",
       "9      5-10 Miles  \n",
       "\n",
       "[10 rows x 29 columns]"
      ]
     },
     "execution_count": 9,
     "metadata": {},
     "output_type": "execute_result"
    }
   ],
   "source": [
    "df"
   ]
  },
  {
   "cell_type": "markdown",
   "id": "7830c3a28c05369",
   "metadata": {},
   "source": [
    "## Use atoti to connect and read SQL"
   ]
  },
  {
   "cell_type": "code",
   "execution_count": 10,
   "id": "5754e9d862372df0",
   "metadata": {
    "collapsed": false,
    "jupyter": {
     "outputs_hidden": false
    },
    "tags": []
   },
   "outputs": [
    {
     "name": "stdout",
     "output_type": "stream",
     "text": [
      "Welcome to Atoti 0.8.11!\n",
      "\n",
      "By using this community edition, you agree with the license available at https://docs.atoti.io/latest/eula.html.\n",
      "Browse the official documentation at https://docs.atoti.io.\n",
      "Join the community at https://www.atoti.io/register.\n",
      "\n",
      "Atoti collects telemetry data, which is used to help understand how to improve the product.\n",
      "If you don't wish to send usage data, you can request a trial license at https://www.atoti.io/evaluation-license-request.\n",
      "\n",
      "You can hide this message by setting the `ATOTI_HIDE_EULA_MESSAGE` environment variable to True.\n"
     ]
    }
   ],
   "source": [
    "import atoti as tt"
   ]
  },
  {
   "cell_type": "code",
   "execution_count": 11,
   "id": "dfc832741c83578b",
   "metadata": {
    "collapsed": false,
    "jupyter": {
     "outputs_hidden": false
    },
    "tags": []
   },
   "outputs": [],
   "source": [
    "session = tt.Session()"
   ]
  },
  {
   "cell_type": "code",
   "execution_count": 13,
   "id": "b9fab168e0fa4e29",
   "metadata": {
    "collapsed": false,
    "jupyter": {
     "outputs_hidden": false
    },
    "tags": []
   },
   "outputs": [],
   "source": [
    "jdbc_url = f\"jdbc:postgresql://{db_host}:{db_port}/{db_name}?user={db_user}&password={db_password}\""
   ]
  },
  {
   "cell_type": "code",
   "execution_count": 14,
   "id": "2d09ecc7ee336a63",
   "metadata": {
    "collapsed": false,
    "jupyter": {
     "outputs_hidden": false
    },
    "tags": []
   },
   "outputs": [],
   "source": [
    "customer_table = session.read_sql(\n",
    "    \"SELECT * FROM dimcustomer LIMIT 10\",\n",
    "    keys=[\"customerkey\"],\n",
    "    table_name=\"Customer\",\n",
    "    url=jdbc_url,\n",
    ")"
   ]
  },
  {
   "cell_type": "code",
   "execution_count": 15,
   "id": "6a70d98e-8eae-4619-8ac9-1b21c3fce135",
   "metadata": {},
   "outputs": [
    {
     "data": {
      "application/json": {
       "addressline1": {
        "default_value": "N/A",
        "key": false,
        "type": "String"
       },
       "addressline2": {
        "default_value": "N/A",
        "key": false,
        "type": "String"
       },
       "birthdate": {
        "default_value": "datetime.date(1970, 1, 1)",
        "key": false,
        "type": "LocalDate"
       },
       "commutedistance": {
        "default_value": "N/A",
        "key": false,
        "type": "String"
       },
       "customeralternatekey": {
        "default_value": "N/A",
        "key": false,
        "type": "String"
       },
       "customerkey": {
        "default_value": 0,
        "key": true,
        "type": "int"
       },
       "datefirstpurchase": {
        "default_value": "datetime.date(1970, 1, 1)",
        "key": false,
        "type": "LocalDate"
       },
       "emailaddress": {
        "default_value": "N/A",
        "key": false,
        "type": "String"
       },
       "englisheducation": {
        "default_value": "N/A",
        "key": false,
        "type": "String"
       },
       "englishoccupation": {
        "default_value": "N/A",
        "key": false,
        "type": "String"
       },
       "firstname": {
        "default_value": "N/A",
        "key": false,
        "type": "String"
       },
       "frencheducation": {
        "default_value": "N/A",
        "key": false,
        "type": "String"
       },
       "frenchoccupation": {
        "default_value": "N/A",
        "key": false,
        "type": "String"
       },
       "gender": {
        "default_value": "N/A",
        "key": false,
        "type": "String"
       },
       "geographykey": {
        "default_value": null,
        "key": false,
        "type": "int"
       },
       "houseownerflag": {
        "default_value": "N/A",
        "key": false,
        "type": "String"
       },
       "lastname": {
        "default_value": "N/A",
        "key": false,
        "type": "String"
       },
       "maritalstatus": {
        "default_value": "N/A",
        "key": false,
        "type": "String"
       },
       "middlename": {
        "default_value": "N/A",
        "key": false,
        "type": "String"
       },
       "namestyle": {
        "default_value": false,
        "key": false,
        "type": "boolean"
       },
       "numbercarsowned": {
        "default_value": null,
        "key": false,
        "type": "int"
       },
       "numberchildrenathome": {
        "default_value": null,
        "key": false,
        "type": "int"
       },
       "phone": {
        "default_value": "N/A",
        "key": false,
        "type": "String"
       },
       "spanisheducation": {
        "default_value": "N/A",
        "key": false,
        "type": "String"
       },
       "spanishoccupation": {
        "default_value": "N/A",
        "key": false,
        "type": "String"
       },
       "suffix": {
        "default_value": "N/A",
        "key": false,
        "type": "String"
       },
       "title": {
        "default_value": "N/A",
        "key": false,
        "type": "String"
       },
       "totalchildren": {
        "default_value": null,
        "key": false,
        "type": "int"
       },
       "yearlyincome": {
        "default_value": null,
        "key": false,
        "type": "double"
       }
      },
      "text/html": [
       "<ul>\n",
       "<li>Customer\n",
       "  <ul>\n",
       "  <li>customerkey\n",
       "    <ul>\n",
       "    <li>key: True</li>\n",
       "    <li>type: int</li>\n",
       "    <li>default_value: 0</li>\n",
       "    </ul>\n",
       "  </li>\n",
       "  <li>geographykey\n",
       "    <ul>\n",
       "    <li>key: False</li>\n",
       "    <li>type: int</li>\n",
       "    <li>default_value: None</li>\n",
       "    </ul>\n",
       "  </li>\n",
       "  <li>customeralternatekey\n",
       "    <ul>\n",
       "    <li>key: False</li>\n",
       "    <li>type: String</li>\n",
       "    <li>default_value: N/A</li>\n",
       "    </ul>\n",
       "  </li>\n",
       "  <li>title\n",
       "    <ul>\n",
       "    <li>key: False</li>\n",
       "    <li>type: String</li>\n",
       "    <li>default_value: N/A</li>\n",
       "    </ul>\n",
       "  </li>\n",
       "  <li>firstname\n",
       "    <ul>\n",
       "    <li>key: False</li>\n",
       "    <li>type: String</li>\n",
       "    <li>default_value: N/A</li>\n",
       "    </ul>\n",
       "  </li>\n",
       "  <li>middlename\n",
       "    <ul>\n",
       "    <li>key: False</li>\n",
       "    <li>type: String</li>\n",
       "    <li>default_value: N/A</li>\n",
       "    </ul>\n",
       "  </li>\n",
       "  <li>lastname\n",
       "    <ul>\n",
       "    <li>key: False</li>\n",
       "    <li>type: String</li>\n",
       "    <li>default_value: N/A</li>\n",
       "    </ul>\n",
       "  </li>\n",
       "  <li>namestyle\n",
       "    <ul>\n",
       "    <li>key: False</li>\n",
       "    <li>type: boolean</li>\n",
       "    <li>default_value: False</li>\n",
       "    </ul>\n",
       "  </li>\n",
       "  <li>birthdate\n",
       "    <ul>\n",
       "    <li>key: False</li>\n",
       "    <li>type: LocalDate</li>\n",
       "    <li>default_value: datetime.date(1970, 1, 1)</li>\n",
       "    </ul>\n",
       "  </li>\n",
       "  <li>maritalstatus\n",
       "    <ul>\n",
       "    <li>key: False</li>\n",
       "    <li>type: String</li>\n",
       "    <li>default_value: N/A</li>\n",
       "    </ul>\n",
       "  </li>\n",
       "  <li>suffix\n",
       "    <ul>\n",
       "    <li>key: False</li>\n",
       "    <li>type: String</li>\n",
       "    <li>default_value: N/A</li>\n",
       "    </ul>\n",
       "  </li>\n",
       "  <li>gender\n",
       "    <ul>\n",
       "    <li>key: False</li>\n",
       "    <li>type: String</li>\n",
       "    <li>default_value: N/A</li>\n",
       "    </ul>\n",
       "  </li>\n",
       "  <li>emailaddress\n",
       "    <ul>\n",
       "    <li>key: False</li>\n",
       "    <li>type: String</li>\n",
       "    <li>default_value: N/A</li>\n",
       "    </ul>\n",
       "  </li>\n",
       "  <li>yearlyincome\n",
       "    <ul>\n",
       "    <li>key: False</li>\n",
       "    <li>type: double</li>\n",
       "    <li>default_value: None</li>\n",
       "    </ul>\n",
       "  </li>\n",
       "  <li>totalchildren\n",
       "    <ul>\n",
       "    <li>key: False</li>\n",
       "    <li>type: int</li>\n",
       "    <li>default_value: None</li>\n",
       "    </ul>\n",
       "  </li>\n",
       "  <li>numberchildrenathome\n",
       "    <ul>\n",
       "    <li>key: False</li>\n",
       "    <li>type: int</li>\n",
       "    <li>default_value: None</li>\n",
       "    </ul>\n",
       "  </li>\n",
       "  <li>englisheducation\n",
       "    <ul>\n",
       "    <li>key: False</li>\n",
       "    <li>type: String</li>\n",
       "    <li>default_value: N/A</li>\n",
       "    </ul>\n",
       "  </li>\n",
       "  <li>spanisheducation\n",
       "    <ul>\n",
       "    <li>key: False</li>\n",
       "    <li>type: String</li>\n",
       "    <li>default_value: N/A</li>\n",
       "    </ul>\n",
       "  </li>\n",
       "  <li>frencheducation\n",
       "    <ul>\n",
       "    <li>key: False</li>\n",
       "    <li>type: String</li>\n",
       "    <li>default_value: N/A</li>\n",
       "    </ul>\n",
       "  </li>\n",
       "  <li>englishoccupation\n",
       "    <ul>\n",
       "    <li>key: False</li>\n",
       "    <li>type: String</li>\n",
       "    <li>default_value: N/A</li>\n",
       "    </ul>\n",
       "  </li>\n",
       "  <li>spanishoccupation\n",
       "    <ul>\n",
       "    <li>key: False</li>\n",
       "    <li>type: String</li>\n",
       "    <li>default_value: N/A</li>\n",
       "    </ul>\n",
       "  </li>\n",
       "  <li>frenchoccupation\n",
       "    <ul>\n",
       "    <li>key: False</li>\n",
       "    <li>type: String</li>\n",
       "    <li>default_value: N/A</li>\n",
       "    </ul>\n",
       "  </li>\n",
       "  <li>houseownerflag\n",
       "    <ul>\n",
       "    <li>key: False</li>\n",
       "    <li>type: String</li>\n",
       "    <li>default_value: N/A</li>\n",
       "    </ul>\n",
       "  </li>\n",
       "  <li>numbercarsowned\n",
       "    <ul>\n",
       "    <li>key: False</li>\n",
       "    <li>type: int</li>\n",
       "    <li>default_value: None</li>\n",
       "    </ul>\n",
       "  </li>\n",
       "  <li>addressline1\n",
       "    <ul>\n",
       "    <li>key: False</li>\n",
       "    <li>type: String</li>\n",
       "    <li>default_value: N/A</li>\n",
       "    </ul>\n",
       "  </li>\n",
       "  <li>addressline2\n",
       "    <ul>\n",
       "    <li>key: False</li>\n",
       "    <li>type: String</li>\n",
       "    <li>default_value: N/A</li>\n",
       "    </ul>\n",
       "  </li>\n",
       "  <li>phone\n",
       "    <ul>\n",
       "    <li>key: False</li>\n",
       "    <li>type: String</li>\n",
       "    <li>default_value: N/A</li>\n",
       "    </ul>\n",
       "  </li>\n",
       "  <li>datefirstpurchase\n",
       "    <ul>\n",
       "    <li>key: False</li>\n",
       "    <li>type: LocalDate</li>\n",
       "    <li>default_value: datetime.date(1970, 1, 1)</li>\n",
       "    </ul>\n",
       "  </li>\n",
       "  <li>commutedistance\n",
       "    <ul>\n",
       "    <li>key: False</li>\n",
       "    <li>type: String</li>\n",
       "    <li>default_value: N/A</li>\n",
       "    </ul>\n",
       "  </li>\n",
       "  </ul>\n",
       "</li>\n",
       "</ul>\n"
      ],
      "text/plain": [
       "<atoti.table.Table at 0x1eaf6fd2c90>"
      ]
     },
     "execution_count": 15,
     "metadata": {
      "application/json": {
       "expanded": true,
       "root": "Customer"
      }
     },
     "output_type": "execute_result"
    }
   ],
   "source": [
    "customer_table"
   ]
  },
  {
   "cell_type": "markdown",
   "id": "84097e1d5a2cc003",
   "metadata": {
    "collapsed": false,
    "jupyter": {
     "outputs_hidden": false
    }
   },
   "source": [
    "## Use pgAdmin\n",
    "pgAdmin is a web based interface for you to monitor, view and operate on the postgresql database\n",
    "## Use command line psql\n",
    "psql is a command line tool you can use to connect to the database server\n",
    "## Use PowerBI[Optional]\n",
    "You can also hook the postgresql to the PowerBI and do the visualization directly"
   ]
  }
 ],
 "metadata": {
  "kernelspec": {
   "display_name": "Python 3 (ipykernel)",
   "language": "python",
   "name": "python3"
  },
  "language_info": {
   "codemirror_mode": {
    "name": "ipython",
    "version": 3
   },
   "file_extension": ".py",
   "mimetype": "text/x-python",
   "name": "python",
   "nbconvert_exporter": "python",
   "pygments_lexer": "ipython3",
   "version": "3.11.6"
  }
 },
 "nbformat": 4,
 "nbformat_minor": 5
}
