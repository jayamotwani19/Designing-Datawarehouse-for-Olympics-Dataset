{
 "cells": [
  {
   "cell_type": "markdown",
   "id": "a833ec83f55c7b5d",
   "metadata": {
    "collapsed": false,
    "jupyter": {
     "outputs_hidden": false
    }
   },
   "source": [
    "# ETL demo\n",
    "\n",
    "The core concept of the ETL is to operate on the data. \n",
    "So you need to understand the data, and know the relationships between them.\n",
    "And then using scripts to sort them out inside the database, or trigger next progress.\n",
    "\n",
    "It is a powerful way to get multiple data sources to work together, get the insights or applications we want. \n",
    "\n",
    "We will use SQL Server, which is backed by Microsoft as an example to do an ETL demo. \n",
    "The goal here will be try to load the data from a csv file to the database.\n",
    "(In this way you can learn relational database solutions for different vendors, at the same time, SQL Server and PostgreSQL are the two most popular relational database on the market)\n"
   ]
  },
  {
   "cell_type": "markdown",
   "id": "260ab357e1f42869",
   "metadata": {
    "collapsed": false,
    "jupyter": {
     "outputs_hidden": false
    }
   },
   "source": [
    "## Connect to the SQL Server\n",
    "first, same as the postgresql connection process, you will need to have a driver to help you connect to the database via python.\n",
    "You have two options here\n",
    "\n",
    "- pyodbc\n",
    "- pymssql\n",
    "\n",
    "Either way works, we pick one and continue this"
   ]
  },
  {
   "cell_type": "code",
   "execution_count": null,
   "id": "6b3201527e785d94",
   "metadata": {
    "ExecuteTime": {
     "end_time": "2024-02-20T07:40:39.639653100Z",
     "start_time": "2024-02-20T07:40:39.629655900Z"
    },
    "collapsed": false,
    "jupyter": {
     "outputs_hidden": false
    }
   },
   "outputs": [],
   "source": [
    "import pymssql"
   ]
  },
  {
   "cell_type": "code",
   "execution_count": null,
   "id": "4f17a3c62dbada5f",
   "metadata": {
    "ExecuteTime": {
     "end_time": "2024-02-20T07:40:40.224431300Z",
     "start_time": "2024-02-20T07:40:40.223111800Z"
    },
    "collapsed": false,
    "jupyter": {
     "outputs_hidden": false
    }
   },
   "outputs": [],
   "source": [
    "# Define your connection parameters\n",
    "server_name = 'localhost'\n",
    "database_name = 'AdventureworksDWDemo'\n",
    "username = 'sa'\n",
    "password = 'YourStrongPassw0rd'"
   ]
  },
  {
   "cell_type": "code",
   "execution_count": null,
   "id": "cfa07d63be928dd4",
   "metadata": {
    "ExecuteTime": {
     "end_time": "2024-02-20T07:40:40.715197800Z",
     "start_time": "2024-02-20T07:40:40.706202Z"
    },
    "collapsed": false,
    "jupyter": {
     "outputs_hidden": false
    }
   },
   "outputs": [],
   "source": [
    "conn = pymssql.connect(server_name, username, password, database_name)"
   ]
  },
  {
   "cell_type": "code",
   "execution_count": null,
   "id": "9d86fcf37b757b56",
   "metadata": {
    "ExecuteTime": {
     "end_time": "2024-02-20T07:40:41.180008Z",
     "start_time": "2024-02-20T07:40:41.176009Z"
    },
    "collapsed": false,
    "jupyter": {
     "outputs_hidden": false
    }
   },
   "outputs": [],
   "source": [
    "cursor = conn.cursor()"
   ]
  },
  {
   "cell_type": "code",
   "execution_count": 5,
   "id": "4b82c3334410e3cc",
   "metadata": {
    "ExecuteTime": {
     "end_time": "2024-02-20T07:40:41.592973200Z",
     "start_time": "2024-02-20T07:40:41.548885Z"
    },
    "collapsed": false,
    "jupyter": {
     "outputs_hidden": false
    }
   },
   "outputs": [],
   "source": [
    "script_parts = [\n",
    "    \"USE AdventureworksDWDemo\",\n",
    "    \"CREATE TABLE DimCustomer (CustomerID int PRIMARY KEY IDENTITY, CustomerAltID varchar(50) NOT NULL, CustomerName varchar(256), Gender varchar(20))\",\n",
    "    \"CREATE TABLE DimProduct (ProductKey int PRIMARY KEY IDENTITY, ProductAltKey varchar(10) NOT NULL, ProductName varchar(100), ProductActualCost money, ProductSalesCost money)\",\n",
    "    '''\n",
    "      CREATE TABLE DimStores\n",
    "    (\n",
    "        StoreID int PRIMARY KEY IDENTITY,\n",
    "        StoreAltID varchar(10) NOT NULL,\n",
    "        StoreName varchar(100),\n",
    "        StoreLocation varchar(100),\n",
    "        City varchar(100),\n",
    "        State varchar(100),\n",
    "        Country varchar(100);\n",
    "    )\n",
    "    ''',\n",
    "    '''\n",
    "    CREATE TABLE DimSalesPerson\n",
    "    (\n",
    "        SalesPersonID int PRIMARY KEY IDENTITY,\n",
    "        SalesPersonAltID varchar(10) NOT NULL,\n",
    "        SalesPersonName varchar(100),\n",
    "        StoreID int,\n",
    "        City varchar(100),\n",
    "        State varchar(100),\n",
    "        Country varchar(100)\n",
    "    )\n",
    "    ''',\n",
    "    '''\n",
    "    CREATE TABLE FactProductSales\n",
    "    (\n",
    "        TransactionId bigint PRIMARY KEY IDENTITY,\n",
    "        SalesInvoiceNumber int NOT NULL,\n",
    "        StoreID int NOT NULL,\n",
    "        CustomerID int NOT NULL,\n",
    "        ProductID int NOT NULL,\n",
    "        SalesPersonID int NOT NULL,\n",
    "        Quantity float,\n",
    "        SalesTotalCost money,\n",
    "        ProductActualCost money,\n",
    "        Deviation float\n",
    "    )\n",
    "    ''',\n",
    "    '''\n",
    "    ALTER TABLE FactProductSales ADD CONSTRAINT FK_StoreID FOREIGN KEY (StoreID) REFERENCES DimStores(StoreID)\n",
    "    ''',\n",
    "    '''\n",
    "    ALTER TABLE FactProductSales ADD CONSTRAINT FK_CustomerID FOREIGN KEY (CustomerID) REFERENCES DimCustomer(CustomerID)\n",
    "    ''',\n",
    "    '''\n",
    "    ALTER TABLE FactProductSales ADD CONSTRAINT FK_ProductKey FOREIGN KEY (ProductID) REFERENCES DimProduct(ProductKey)\n",
    "    ''',\n",
    "    '''\n",
    "    ALTER TABLE FactProductSales ADD CONSTRAINT FK_SalesPersonID FOREIGN KEY (SalesPersonID) REFERENCES DimSalesPerson(SalesPersonID)\n",
    "    '''\n",
    "]"
   ]
  },
  {
   "cell_type": "code",
   "execution_count": 6,
   "id": "ec721284ded47a65",
   "metadata": {
    "ExecuteTime": {
     "end_time": "2024-02-20T07:40:42.218961800Z",
     "start_time": "2024-02-20T07:40:42.121834100Z"
    },
    "collapsed": false,
    "jupyter": {
     "outputs_hidden": false
    }
   },
   "outputs": [
    {
     "name": "stdout",
     "output_type": "stream",
     "text": [
      "Error executing SQL script: (2714, b\"There is already an object named 'DimCustomer' in the database.DB-Lib error message 20018, severity 16:\\nGeneral SQL Server error: Check messages from the SQL Server\\n\")\n"
     ]
    }
   ],
   "source": [
    "for part in script_parts:\n",
    "    try:\n",
    "        cursor.execute(part)\n",
    "        conn.commit()  # Commit changes for DDL statements\n",
    "    except Exception as e:\n",
    "        print(f\"Error executing SQL script: {e}\")\n",
    "        break  # Stop execution on error\n",
    "\n",
    "# Close the connection\n",
    "cursor.close()\n",
    "conn.close()"
   ]
  },
  {
   "cell_type": "markdown",
   "id": "56ac15c24815e261",
   "metadata": {
    "collapsed": false,
    "jupyter": {
     "outputs_hidden": false
    }
   },
   "source": [
    "until now, we are creating the tables and add the contraints, next we will try to dump the data into the tables.\n",
    "\n",
    "There are multiple ways to do so, you can select which way best suits you when you doing projects.\n",
    "\n",
    "- Construct the SQL scripts and execute them as above\n",
    "- Use pandas (which means other people doing the above step for you)\n",
    "\n",
    "We will demo the way using pandas"
   ]
  },
  {
   "cell_type": "code",
   "execution_count": 1,
   "id": "7ebc7e7625589e5a",
   "metadata": {
    "ExecuteTime": {
     "end_time": "2024-02-20T07:40:43.260405300Z",
     "start_time": "2024-02-20T07:40:43.094770200Z"
    },
    "collapsed": false,
    "jupyter": {
     "outputs_hidden": false
    }
   },
   "outputs": [],
   "source": [
    "import pandas as pd"
   ]
  },
  {
   "cell_type": "code",
   "execution_count": 2,
   "id": "6f886298d6e98a89",
   "metadata": {
    "ExecuteTime": {
     "end_time": "2024-02-20T07:40:43.600142700Z",
     "start_time": "2024-02-20T07:40:43.497943100Z"
    },
    "collapsed": false,
    "jupyter": {
     "outputs_hidden": false
    }
   },
   "outputs": [],
   "source": [
    "from sqlalchemy import create_engine"
   ]
  },
  {
   "cell_type": "code",
   "execution_count": 6,
   "id": "981554ad13f59ca9",
   "metadata": {
    "ExecuteTime": {
     "end_time": "2024-02-20T07:40:44.004035Z",
     "start_time": "2024-02-20T07:40:43.995036600Z"
    },
    "collapsed": false,
    "jupyter": {
     "outputs_hidden": false
    }
   },
   "outputs": [],
   "source": [
    "connection_string = f\"mssql+pymssql://{username}:{password}@{server_name}/{database_name}\"\n",
    "engine = create_engine(connection_string)"
   ]
  },
  {
   "cell_type": "code",
   "execution_count": 7,
   "id": "374258205a0ad84",
   "metadata": {
    "ExecuteTime": {
     "end_time": "2024-02-20T07:40:44.403094800Z",
     "start_time": "2024-02-20T07:40:44.402093700Z"
    },
    "collapsed": false,
    "jupyter": {
     "outputs_hidden": false
    }
   },
   "outputs": [],
   "source": [
    "from pathlib import Path\n",
    "# data path is current path's parent and then AdventureWorkDWDemo\n",
    "script_path = Path.cwd().parent\n",
    "data_path = script_path / \"data\" / \"AdventureWorkDWDemo\"\n",
    "\n",
    "dim_customer_csv = data_path / \"DimCustomer.csv\""
   ]
  },
  {
   "cell_type": "code",
   "execution_count": 8,
   "id": "76083013c4733494",
   "metadata": {
    "ExecuteTime": {
     "end_time": "2024-02-20T07:41:08.376751100Z",
     "start_time": "2024-02-20T07:41:08.373688900Z"
    },
    "collapsed": false,
    "jupyter": {
     "outputs_hidden": false
    }
   },
   "outputs": [],
   "source": [
    "customer_df = pd.read_csv(dim_customer_csv, header=None)"
   ]
  },
  {
   "cell_type": "code",
   "execution_count": 9,
   "id": "1de621ac795352c6",
   "metadata": {
    "ExecuteTime": {
     "end_time": "2024-02-20T07:41:08.924528300Z",
     "start_time": "2024-02-20T07:41:08.895528400Z"
    },
    "collapsed": false,
    "jupyter": {
     "outputs_hidden": false
    }
   },
   "outputs": [
    {
     "data": {
      "text/html": [
       "<div>\n",
       "<style scoped>\n",
       "    .dataframe tbody tr th:only-of-type {\n",
       "        vertical-align: middle;\n",
       "    }\n",
       "\n",
       "    .dataframe tbody tr th {\n",
       "        vertical-align: top;\n",
       "    }\n",
       "\n",
       "    .dataframe thead th {\n",
       "        text-align: right;\n",
       "    }\n",
       "</style>\n",
       "<table border=\"1\" class=\"dataframe\">\n",
       "  <thead>\n",
       "    <tr style=\"text-align: right;\">\n",
       "      <th></th>\n",
       "      <th>0</th>\n",
       "      <th>1</th>\n",
       "      <th>2</th>\n",
       "    </tr>\n",
       "  </thead>\n",
       "  <tbody>\n",
       "    <tr>\n",
       "      <th>0</th>\n",
       "      <td>IMI-001</td>\n",
       "      <td>Henry Ford</td>\n",
       "      <td>M</td>\n",
       "    </tr>\n",
       "    <tr>\n",
       "      <th>1</th>\n",
       "      <td>IMI-002</td>\n",
       "      <td>Bill Gates</td>\n",
       "      <td>M</td>\n",
       "    </tr>\n",
       "    <tr>\n",
       "      <th>2</th>\n",
       "      <td>IMI-003</td>\n",
       "      <td>Muskan Shaikh</td>\n",
       "      <td>F</td>\n",
       "    </tr>\n",
       "    <tr>\n",
       "      <th>3</th>\n",
       "      <td>IMI-004</td>\n",
       "      <td>Richard Thrubin</td>\n",
       "      <td>M</td>\n",
       "    </tr>\n",
       "    <tr>\n",
       "      <th>4</th>\n",
       "      <td>IMI-005</td>\n",
       "      <td>Emma Wattson</td>\n",
       "      <td>F</td>\n",
       "    </tr>\n",
       "  </tbody>\n",
       "</table>\n",
       "</div>"
      ],
      "text/plain": [
       "         0                1  2\n",
       "0  IMI-001       Henry Ford  M\n",
       "1  IMI-002       Bill Gates  M\n",
       "2  IMI-003    Muskan Shaikh  F\n",
       "3  IMI-004  Richard Thrubin  M\n",
       "4  IMI-005     Emma Wattson  F"
      ]
     },
     "execution_count": 9,
     "metadata": {},
     "output_type": "execute_result"
    }
   ],
   "source": [
    "customer_df"
   ]
  },
  {
   "cell_type": "code",
   "execution_count": 10,
   "id": "43913ce6fd18e6ae",
   "metadata": {
    "ExecuteTime": {
     "end_time": "2024-02-20T07:41:51.049600800Z",
     "start_time": "2024-02-20T07:41:51.046601100Z"
    },
    "collapsed": false,
    "jupyter": {
     "outputs_hidden": false
    }
   },
   "outputs": [],
   "source": [
    "customer_df.columns = [\"CustomerAltID\", \"CustomerName\", \"Gender\"]"
   ]
  },
  {
   "cell_type": "code",
   "execution_count": 11,
   "id": "9cee1970c06a6860",
   "metadata": {
    "ExecuteTime": {
     "end_time": "2024-02-20T07:41:53.028663Z",
     "start_time": "2024-02-20T07:41:53.007156200Z"
    },
    "collapsed": false,
    "jupyter": {
     "outputs_hidden": false
    }
   },
   "outputs": [],
   "source": [
    "customer_df.to_sql(\"DimCustomer\", con=engine, if_exists=\"append\", index=False)"
   ]
  },
  {
   "cell_type": "code",
   "execution_count": 15,
   "id": "f785342f5b5d46c5",
   "metadata": {
    "ExecuteTime": {
     "end_time": "2024-02-20T07:42:04.226476800Z",
     "start_time": "2024-02-20T07:42:04.219967900Z"
    },
    "collapsed": false,
    "jupyter": {
     "outputs_hidden": false
    }
   },
   "outputs": [],
   "source": [
    "# confirm it via run query "
   ]
  },
  {
   "cell_type": "code",
   "execution_count": 16,
   "id": "db0a7e96ed7d2a10",
   "metadata": {
    "ExecuteTime": {
     "end_time": "2024-02-20T07:43:58.001321900Z",
     "start_time": "2024-02-20T07:43:57.951240400Z"
    },
    "collapsed": false,
    "jupyter": {
     "outputs_hidden": false
    }
   },
   "outputs": [
    {
     "name": "stdout",
     "output_type": "stream",
     "text": [
      "(1, 'IMI-001', 'Henry Ford', 'M')\n",
      "(2, 'IMI-002', 'Bill Gates', 'M')\n",
      "(3, 'IMI-003', 'Muskan Shaikh', 'F')\n",
      "(4, 'IMI-004', 'Richard Thrubin', 'M')\n",
      "(5, 'IMI-005', 'Emma Wattson', 'F')\n",
      "(6, 'IMI-001', 'Henry Ford', 'M')\n",
      "(7, 'IMI-002', 'Bill Gates', 'M')\n",
      "(8, 'IMI-003', 'Muskan Shaikh', 'F')\n",
      "(9, 'IMI-004', 'Richard Thrubin', 'M')\n",
      "(10, 'IMI-005', 'Emma Wattson', 'F')\n"
     ]
    }
   ],
   "source": [
    "conn = pymssql.connect(server_name, username, password, database_name)\n",
    "cursor = conn.cursor()\n",
    "\n",
    "cursor.execute(\"SELECT * FROM DimCustomer\")\n",
    "\n",
    "# Fetch all rows\n",
    "rows = cursor.fetchall()\n",
    "\n",
    "if rows:\n",
    "    # Print each row\n",
    "    for row in rows:\n",
    "        print(row)"
   ]
  },
  {
   "cell_type": "markdown",
   "id": "d4a034db711ff268",
   "metadata": {
    "collapsed": false,
    "jupyter": {
     "outputs_hidden": false
    }
   },
   "source": [
    "You can do the rest for the csv files under the AdventureWorkDWDemo folder, and then use this db as the db for the cube creation."
   ]
  }
 ],
 "metadata": {
  "kernelspec": {
   "display_name": "Python 3 (ipykernel)",
   "language": "python",
   "name": "python3"
  },
  "language_info": {
   "codemirror_mode": {
    "name": "ipython",
    "version": 3
   },
   "file_extension": ".py",
   "mimetype": "text/x-python",
   "name": "python",
   "nbconvert_exporter": "python",
   "pygments_lexer": "ipython3",
   "version": "3.11.6"
  }
 },
 "nbformat": 4,
 "nbformat_minor": 5
}
